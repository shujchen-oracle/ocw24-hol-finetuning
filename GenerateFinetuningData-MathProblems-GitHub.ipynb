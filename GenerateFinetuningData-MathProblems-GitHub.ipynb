{
 "cells": [
  {
   "cell_type": "markdown",
   "id": "8a6bf6ff-8870-4c20-8ff5-6ca5641c42a1",
   "metadata": {},
   "source": [
    "### OCI Data Science - Useful Tips\n",
    "<details>\n",
    "<summary><font size=\"2\">Check for Public Internet Access</font></summary>\n",
    "\n",
    "```python\n",
    "import requests\n",
    "response = requests.get(\"https://oracle.com\")\n",
    "assert response.status_code==200, \"Internet connection failed\"\n",
    "```\n",
    "</details>\n",
    "<details>\n",
    "<summary><font size=\"2\">Helpful Documentation </font></summary>\n",
    "<ul><li><a href=\"https://docs.cloud.oracle.com/en-us/iaas/data-science/using/data-science.htm\">Data Science Service Documentation</a></li>\n",
    "<li><a href=\"https://docs.cloud.oracle.com/iaas/tools/ads-sdk/latest/index.html\">ADS documentation</a></li>\n",
    "</ul>\n",
    "</details>\n",
    "<details>\n",
    "<summary><font size=\"2\">Typical Cell Imports and Settings for ADS</font></summary>\n",
    "\n",
    "```python\n",
    "%load_ext autoreload\n",
    "%autoreload 2\n",
    "%matplotlib inline\n",
    "\n",
    "import warnings\n",
    "warnings.filterwarnings('ignore')\n",
    "\n",
    "import logging\n",
    "logging.basicConfig(format='%(levelname)s:%(message)s', level=logging.ERROR)\n",
    "\n",
    "import ads\n",
    "from ads.dataset.factory import DatasetFactory\n",
    "from ads.automl.provider import OracleAutoMLProvider\n",
    "from ads.automl.driver import AutoML\n",
    "from ads.evaluations.evaluator import ADSEvaluator\n",
    "from ads.common.data import ADSData\n",
    "from ads.explanations.explainer import ADSExplainer\n",
    "from ads.explanations.mlx_global_explainer import MLXGlobalExplainer\n",
    "from ads.explanations.mlx_local_explainer import MLXLocalExplainer\n",
    "from ads.catalog.model import ModelCatalog\n",
    "from ads.common.model_artifact import ModelArtifact\n",
    "```\n",
    "</details>\n",
    "<details>\n",
    "<summary><font size=\"2\">Useful Environment Variables</font></summary>\n",
    "\n",
    "```python\n",
    "import os\n",
    "print(os.environ[\"NB_SESSION_COMPARTMENT_OCID\"])\n",
    "print(os.environ[\"PROJECT_OCID\"])\n",
    "print(os.environ[\"USER_OCID\"])\n",
    "print(os.environ[\"TENANCY_OCID\"])\n",
    "print(os.environ[\"NB_REGION\"])\n",
    "```\n",
    "</details>"
   ]
  },
  {
   "cell_type": "code",
   "execution_count": 2,
   "id": "1627e1af-bb39-498b-b9b5-9b4d271a255a",
   "metadata": {
    "tags": []
   },
   "outputs": [],
   "source": [
    "import pandas as pd"
   ]
  },
  {
   "cell_type": "code",
   "execution_count": 3,
   "id": "c02be06f-e268-4a44-8c6e-251474999fd8",
   "metadata": {
    "tags": []
   },
   "outputs": [],
   "source": [
    "data_path = \"../../Data/MathTrainingSet.parquet\"\n",
    "mathQnA = pd.read_parquet(data_path, engine='pyarrow')"
   ]
  },
  {
   "cell_type": "code",
   "execution_count": 4,
   "id": "4e3c812d-1c98-4db0-8769-5b1253da0ec2",
   "metadata": {
    "tags": []
   },
   "outputs": [
    {
     "name": "stdout",
     "output_type": "stream",
     "text": [
      "Index(['question', 'answer'], dtype='object')\n"
     ]
    },
    {
     "data": {
      "text/html": [
       "<div>\n",
       "<style scoped>\n",
       "    .dataframe tbody tr th:only-of-type {\n",
       "        vertical-align: middle;\n",
       "    }\n",
       "\n",
       "    .dataframe tbody tr th {\n",
       "        vertical-align: top;\n",
       "    }\n",
       "\n",
       "    .dataframe thead th {\n",
       "        text-align: right;\n",
       "    }\n",
       "</style>\n",
       "<table border=\"1\" class=\"dataframe\">\n",
       "  <thead>\n",
       "    <tr style=\"text-align: right;\">\n",
       "      <th></th>\n",
       "      <th>question</th>\n",
       "      <th>answer</th>\n",
       "    </tr>\n",
       "  </thead>\n",
       "  <tbody>\n",
       "    <tr>\n",
       "      <th>0</th>\n",
       "      <td>Jungkook is the 5th place. Find the number of ...</td>\n",
       "      <td>If Jungkook is in 5th place, then 4 people cro...</td>\n",
       "    </tr>\n",
       "    <tr>\n",
       "      <th>1</th>\n",
       "      <td>A number divided by 10 is 6. Yoongi got the re...</td>\n",
       "      <td>Let's call the certain number \"x\". According t...</td>\n",
       "    </tr>\n",
       "    <tr>\n",
       "      <th>2</th>\n",
       "      <td>Dongju selects a piece of paper with a number ...</td>\n",
       "      <td>To find the second smallest and third smallest...</td>\n",
       "    </tr>\n",
       "    <tr>\n",
       "      <th>3</th>\n",
       "      <td>You wanted to subtract 46 from a number, but y...</td>\n",
       "      <td>If you accidentally subtracted 59 instead of 4...</td>\n",
       "    </tr>\n",
       "    <tr>\n",
       "      <th>4</th>\n",
       "      <td>The length of one span of Jinseo is about 12 c...</td>\n",
       "      <td>If one span of Jinseo is about 12 centimeters ...</td>\n",
       "    </tr>\n",
       "  </tbody>\n",
       "</table>\n",
       "</div>"
      ],
      "text/plain": [
       "                                            question  \\\n",
       "0  Jungkook is the 5th place. Find the number of ...   \n",
       "1  A number divided by 10 is 6. Yoongi got the re...   \n",
       "2  Dongju selects a piece of paper with a number ...   \n",
       "3  You wanted to subtract 46 from a number, but y...   \n",
       "4  The length of one span of Jinseo is about 12 c...   \n",
       "\n",
       "                                              answer  \n",
       "0  If Jungkook is in 5th place, then 4 people cro...  \n",
       "1  Let's call the certain number \"x\". According t...  \n",
       "2  To find the second smallest and third smallest...  \n",
       "3  If you accidentally subtracted 59 instead of 4...  \n",
       "4  If one span of Jinseo is about 12 centimeters ...  "
      ]
     },
     "execution_count": 4,
     "metadata": {},
     "output_type": "execute_result"
    }
   ],
   "source": [
    "print(mathQnA.columns)\n",
    "mathQnA.head(5)"
   ]
  },
  {
   "cell_type": "code",
   "execution_count": 5,
   "id": "10ac0a71-8c08-452b-af69-937f9c89dc2c",
   "metadata": {
    "tags": []
   },
   "outputs": [],
   "source": [
    "prompt_template = \"\"\"input: \"{transcript}\"\n",
    "Solve the above math question. Describe the steps to solve together with the result.\n",
    "State the final result in the last line in the output.\n",
    "Don't add any extra line after the final result.\n",
    "\"\"\""
   ]
  },
  {
   "cell_type": "code",
   "execution_count": 6,
   "id": "fd0765b9-5595-4f40-9c00-2eafe4ace3d6",
   "metadata": {
    "tags": []
   },
   "outputs": [],
   "source": [
    "def prompt(transcript):\n",
    "    prompt = prompt_template.format(transcript=transcript)\n",
    "    return prompt"
   ]
  },
  {
   "cell_type": "code",
   "execution_count": 8,
   "id": "7b932c79-6f9c-42db-9b21-5d8e392f9e24",
   "metadata": {
    "tags": []
   },
   "outputs": [],
   "source": [
    "ft_data = pd.DataFrame(columns = [\"prompt\", \"completion\"])\n",
    "ft_data['prompt'] = mathQnA[\"question\"].apply(prompt)\n",
    "ft_data['completion'] = mathQnA[\"answer\"]"
   ]
  },
  {
   "cell_type": "code",
   "execution_count": null,
   "id": "94c86ce1-5f29-48f9-8b6b-26b3d46fb3cf",
   "metadata": {},
   "outputs": [],
   "source": [
    "ft_data.head(5)"
   ]
  },
  {
   "cell_type": "code",
   "execution_count": 9,
   "id": "7fa00fc6-627c-4491-aa87-b1aa9481140b",
   "metadata": {
    "tags": []
   },
   "outputs": [
    {
     "name": "stdout",
     "output_type": "stream",
     "text": [
      "input: \"Jungkook is the 5th place. Find the number of people who crossed the finish line faster than Jungkook.\"\n",
      "Solve the above math question. Describe the steps to solve together with the result.\n",
      "State the final result in the last line in the output.\n",
      "Don't add any extra line after the final result.\n",
      "\n"
     ]
    }
   ],
   "source": [
    "print(ft_data.iloc[0].prompt)"
   ]
  },
  {
   "cell_type": "code",
   "execution_count": 10,
   "id": "acd0988b-4efa-43e9-9993-0d8d12afb5a5",
   "metadata": {
    "tags": []
   },
   "outputs": [
    {
     "data": {
      "text/plain": [
       "(200035, 2)"
      ]
     },
     "execution_count": 10,
     "metadata": {},
     "output_type": "execute_result"
    }
   ],
   "source": [
    "ft_data.shape"
   ]
  },
  {
   "cell_type": "markdown",
   "id": "630bf572-96c8-4a93-8106-a742c7f7d34e",
   "metadata": {},
   "source": [
    "## Select the first 90% of data for fine-tuning, leave the rest for evaluation"
   ]
  },
  {
   "cell_type": "code",
   "execution_count": 11,
   "id": "9efcedde-a877-466f-8940-24556e73fe06",
   "metadata": {},
   "outputs": [],
   "source": [
    "output_path = \"../../Data/math_QnA_set_first_180K.jsonl\"\n",
    "\n",
    "with open(output_path, \"w\", encoding=\"utf-8\") as f:\n",
    "    f.write(ft_data[['prompt', 'completion']].head(180000).to_json(orient='records', lines=True, force_ascii=False))#.head(80) to reserve some samples for testing"
   ]
  },
  {
   "cell_type": "markdown",
   "id": "f9c8c57c-6f24-48af-ada6-fb10da4218dc",
   "metadata": {},
   "source": [
    "## Upload training samples to the bucket for storing fine-tuning dataset:"
   ]
  },
  {
   "cell_type": "code",
   "execution_count": 13,
   "id": "a5e8dda7-e4d0-4c09-8247-db0dfc68a2d0",
   "metadata": {
    "tags": []
   },
   "outputs": [],
   "source": [
    "import oci\n",
    "from oci.object_storage import UploadManager\n",
    "\n",
    "CONFIG_PROFILE = \"DEFAULT\"\n",
    "config = oci.config.from_file('~/.oci/config', CONFIG_PROFILE)"
   ]
  },
  {
   "cell_type": "code",
   "execution_count": 15,
   "id": "1a4afecb-3c85-4bac-9697-92826050e875",
   "metadata": {
    "tags": []
   },
   "outputs": [
    {
     "name": "stdout",
     "output_type": "stream",
     "text": [
      "FinetuneData\n"
     ]
    }
   ],
   "source": [
    "# Initialize service client with default config file\n",
    "config['region'] = \"us-chicago-1\"\n",
    "object_storage_client = oci.object_storage.ObjectStorageClient(config)\n",
    "\n",
    "# TODO: replace this with your own namespace\n",
    "Namespace = 'abcdefg'\n",
    "\n",
    "# TODO: replace this with your own bucket Name\n",
    "bucketName=\"FinetuneData\"\n",
    "finetuneDataBucket = object_storage_client.get_bucket(namespace_name=Namespace, bucket_name=bucketName)\n",
    "print(finetuneDataBucket.data.name)"
   ]
  },
  {
   "cell_type": "code",
   "execution_count": 16,
   "id": "9e31a1e7-a0b1-402a-898b-1528980f582a",
   "metadata": {},
   "outputs": [
    {
     "data": {
      "text/plain": [
       "<oci.response.Response at 0x7f14598347f0>"
      ]
     },
     "execution_count": 16,
     "metadata": {},
     "output_type": "execute_result"
    }
   ],
   "source": [
    "upload_manager = UploadManager(object_storage_client, allow_parallel_uploads=True, parallel_process_count=10)\n",
    "fileName=\"math_QnA_set_first_180K.jsonl\"\n",
    "upload_manager.upload_file(Namespace,bucketName,fileName, '../Data/'+fileName)   "
   ]
  },
  {
   "cell_type": "code",
   "execution_count": null,
   "id": "044921f0-267f-4b9e-911e-c6f821bc87d6",
   "metadata": {},
   "outputs": [],
   "source": []
  }
 ],
 "metadata": {
  "kernelspec": {
   "display_name": "Python 3 (ipykernel)",
   "language": "python",
   "name": "python3"
  },
  "language_info": {
   "codemirror_mode": {
    "name": "ipython",
    "version": 3
   },
   "file_extension": ".py",
   "mimetype": "text/x-python",
   "name": "python",
   "nbconvert_exporter": "python",
   "pygments_lexer": "ipython3",
   "version": "3.8.19"
  }
 },
 "nbformat": 4,
 "nbformat_minor": 5
}
